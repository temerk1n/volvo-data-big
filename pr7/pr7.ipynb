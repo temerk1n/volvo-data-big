{
 "cells": [
  {
   "cell_type": "markdown",
   "metadata": {},
   "source": [
    "# Практическая работа 7"
   ]
  },
  {
   "cell_type": "markdown",
   "metadata": {},
   "source": [
    "## 1 Найти данные для задачи классификации или для задачи регрессии"
   ]
  },
  {
   "cell_type": "code",
   "metadata": {
    "ExecuteTime": {
     "end_time": "2024-10-13T13:18:53.044734Z",
     "start_time": "2024-10-13T13:18:53.029207Z"
    }
   },
   "source": [
    "import os\n",
    "import pandas as pd\n",
    "\n",
    "PATH = 'D:/projects/PycharmProjects/MireaBigData/pr4/'\n",
    "file_path = os.path.join(PATH, 'smartphones.csv')\n",
    "\n",
    "data = pd.read_csv(file_path)\n",
    "data.info()\n",
    "\n",
    "# Числовые признаки\n",
    "num_cols = [\n",
    "    'avg_rating',\n",
    "    '5G_or_not',\n",
    "    'num_cores',\n",
    "    'processor_speed',\n",
    "    'battery_capacity',\n",
    "    'fast_charging_available',\n",
    "    'fast_charging',\n",
    "    'ram_capacity',\n",
    "    'internal_memory',\n",
    "    'screen_size',\n",
    "    'refresh_rate',\n",
    "    'num_rear_cameras',\n",
    "    'primary_camera_rear',\n",
    "    'primary_camera_front',\n",
    "    'extended_memory_available',\n",
    "    'resolution_height',\n",
    "    'resolution_width',\n",
    "]\n",
    "\n",
    "# Категориальные признаки\n",
    "cat_cols = [\n",
    "    'brand_name',\n",
    "    'model',\n",
    "    'os',\n",
    "]\n",
    "\n",
    "feature_cols = num_cols + cat_cols\n",
    "target_col = 'price'\n",
    "\n",
    "data.dropna(inplace=True)\n",
    "y = data[target_col]\n",
    "data.drop(target_col, axis=1, inplace=True)\n"
   ],
   "outputs": [
    {
     "name": "stdout",
     "output_type": "stream",
     "text": [
      "<class 'pandas.core.frame.DataFrame'>\n",
      "RangeIndex: 941 entries, 0 to 940\n",
      "Data columns (total 22 columns):\n",
      " #   Column                     Non-Null Count  Dtype  \n",
      "---  ------                     --------------  -----  \n",
      " 0   brand_name                 941 non-null    object \n",
      " 1   model                      941 non-null    object \n",
      " 2   price                      941 non-null    int64  \n",
      " 3   avg_rating                 842 non-null    float64\n",
      " 4   5G_or_not                  941 non-null    int64  \n",
      " 5   processor_brand            922 non-null    object \n",
      " 6   num_cores                  935 non-null    float64\n",
      " 7   processor_speed            899 non-null    float64\n",
      " 8   battery_capacity           930 non-null    float64\n",
      " 9   fast_charging_available    941 non-null    int64  \n",
      " 10  fast_charging              741 non-null    float64\n",
      " 11  ram_capacity               941 non-null    int64  \n",
      " 12  internal_memory            941 non-null    int64  \n",
      " 13  screen_size                941 non-null    float64\n",
      " 14  refresh_rate               941 non-null    int64  \n",
      " 15  num_rear_cameras           941 non-null    int64  \n",
      " 16  os                         927 non-null    object \n",
      " 17  primary_camera_rear        941 non-null    float64\n",
      " 18  primary_camera_front       936 non-null    float64\n",
      " 19  extended_memory_available  941 non-null    int64  \n",
      " 20  resolution_height          941 non-null    int64  \n",
      " 21  resolution_width           941 non-null    int64  \n",
      "dtypes: float64(8), int64(10), object(4)\n",
      "memory usage: 161.9+ KB\n"
     ]
    }
   ],
   "execution_count": 2
  },
  {
   "cell_type": "code",
   "metadata": {
    "ExecuteTime": {
     "end_time": "2024-10-13T13:18:54.372883Z",
     "start_time": "2024-10-13T13:18:53.046360Z"
    }
   },
   "source": [
    "import pandas as pd\n",
    "import numpy as np\n",
    "import matplotlib.pyplot as plt\n",
    "from sklearn.linear_model import LogisticRegression, LogisticRegressionCV\n",
    "from sklearn.model_selection import train_test_split, GridSearchCV\n",
    "from sklearn.preprocessing import StandardScaler, RobustScaler, LabelEncoder, OneHotEncoder\n",
    "from sklearn.pipeline import make_pipeline\n",
    "from sklearn.compose import make_column_transformer, ColumnTransformer\n",
    "\n",
    "data.replace(\" \", np.nan, inplace=True)\n",
    "data.columns = [str(t) for t in data.columns]\n",
    "X_train, X_valid, y_train, y_valid = train_test_split(data, y, train_size=0.8, random_state=42)\n",
    "\n",
    "# отнормируем числовые признаки и закодируем категориальные\n",
    "preprocessor = make_column_transformer(\n",
    "    (make_pipeline(StandardScaler(), RobustScaler()), num_cols),\n",
    "    (OneHotEncoder(), cat_cols)\n",
    ")"
   ],
   "outputs": [],
   "execution_count": 3
  },
  {
   "cell_type": "markdown",
   "metadata": {},
   "source": [
    "## 2 Реализовать баггинг"
   ]
  },
  {
   "cell_type": "code",
   "metadata": {
    "ExecuteTime": {
     "end_time": "2024-10-13T13:19:52.295704Z",
     "start_time": "2024-10-13T13:18:54.373835Z"
    }
   },
   "source": [
    "from sklearn.ensemble import RandomForestRegressor\n",
    "from sklearn.model_selection import GridSearchCV\n",
    "from sklearn.pipeline import make_pipeline\n",
    "\n",
    "random_forest = RandomForestRegressor()\n",
    "\n",
    "# Сетка параметров для поиска\n",
    "params_grid = {\n",
    "    \"max_depth\": [9, 15, 18, 24],\n",
    "    \"min_samples_leaf\": [1, 2, 3],\n",
    "    \"min_samples_split\": [8, 10, 12]\n",
    "}\n",
    "\n",
    "# Измените scoring на метрику для регрессии\n",
    "grid_search_random_forest = GridSearchCV(\n",
    "    estimator=random_forest,\n",
    "    param_grid=params_grid,\n",
    "    scoring=\"neg_mean_squared_error\",  # Изменено\n",
    "    cv=5  # Можно добавить кросс-валидацию\n",
    ")\n",
    "\n",
    "# Создаем пайплайн\n",
    "model = make_pipeline(\n",
    "    preprocessor,\n",
    "    grid_search_random_forest\n",
    ")\n",
    "\n",
    "# Обучение модели\n",
    "import time\n",
    "start = time.time()\n",
    "model.fit(X_train, y_train)\n",
    "end = time.time()\n",
    "print(\"Время обучения:\", end - start)\n",
    "\n",
    "# Выводим наилучшие параметры\n",
    "print(\"Наилучшие параметры:\", grid_search_random_forest.best_params_)"
   ],
   "outputs": [
    {
     "name": "stdout",
     "output_type": "stream",
     "text": [
      "Время обучения: 57.77694010734558\n",
      "Наилучшие параметры: {'max_depth': 18, 'min_samples_leaf': 1, 'min_samples_split': 8}\n"
     ]
    }
   ],
   "execution_count": 4
  },
  {
   "cell_type": "code",
   "metadata": {
    "ExecuteTime": {
     "end_time": "2024-10-13T13:19:52.322292Z",
     "start_time": "2024-10-13T13:19:52.296709Z"
    }
   },
   "source": [
    "from sklearn.metrics import mean_squared_error\n",
    "from sklearn.metrics import mean_absolute_error\n",
    "\n",
    "# Предсказания модели\n",
    "y_pred = model.predict(X_train)\n",
    "\n",
    "# Вычисление RMSE\n",
    "rmse = np.sqrt(mean_squared_error(y_train, y_pred))\n",
    "print(\"Среднеквадратичное отклонение (RMSE):\", rmse)\n",
    "# Вычисление MAE\n",
    "mae = mean_absolute_error(y_train, y_pred)\n",
    "print(\"Среднее абсолютное отклонение (MAE):\", mae)"
   ],
   "outputs": [
    {
     "name": "stdout",
     "output_type": "stream",
     "text": [
      "Среднеквадратичное отклонение (RMSE): 9012.831434917574\n",
      "Среднее абсолютное отклонение (MAE): 2461.299210986373\n"
     ]
    }
   ],
   "execution_count": 5
  },
  {
   "cell_type": "markdown",
   "metadata": {},
   "source": [
    "## 3 Реализовать бустинг на тех же данных, что использовались для баггинга"
   ]
  },
  {
   "cell_type": "code",
   "metadata": {
    "ExecuteTime": {
     "end_time": "2024-10-13T13:23:22.031690Z",
     "start_time": "2024-10-13T13:19:52.324605Z"
    }
   },
   "source": [
    "from sklearn.ensemble import GradientBoostingRegressor\n",
    "from sklearn.model_selection import train_test_split\n",
    "from sklearn.pipeline import make_pipeline\n",
    "from sklearn.model_selection import GridSearchCV\n",
    "\n",
    "# Создаем модель бустинга\n",
    "gradient_boosting = GradientBoostingRegressor()\n",
    "\n",
    "# Определяем сетку параметров для поиска лучших гиперпараметров\n",
    "params_grid = {\n",
    "    \"n_estimators\": [100, 200],\n",
    "    \"max_depth\": [3, 4, 5],\n",
    "    \"learning_rate\": [0.01, 0.05, 0.1],\n",
    "    \"min_samples_split\": [2, 3, 4],\n",
    "    \"min_samples_leaf\": [1, 2, 3]\n",
    "}\n",
    "\n",
    "# Настраиваем Grid Search\n",
    "grid_search_gradient_boosting = GridSearchCV(\n",
    "    estimator=gradient_boosting,\n",
    "    param_grid=params_grid,\n",
    "    scoring=\"neg_mean_squared_error\",\n",
    "    cv=5\n",
    ")\n",
    "\n",
    "# Создаем пайплайн\n",
    "model = make_pipeline(\n",
    "    preprocessor,\n",
    "    grid_search_gradient_boosting\n",
    ")\n",
    "\n",
    "# Обучение модели\n",
    "import time\n",
    "start = time.time()\n",
    "model.fit(X_train, y_train)\n",
    "end = time.time()\n",
    "print(\"Время обучения (Gradient Boosting):\", end - start)\n",
    "\n",
    "# Выводим наилучшие параметры\n",
    "print(\"Наилучшие параметры:\", grid_search_gradient_boosting.best_params_)"
   ],
   "outputs": [
    {
     "name": "stdout",
     "output_type": "stream",
     "text": [
      "Время обучения (Gradient Boosting): 209.70157742500305\n",
      "Наилучшие параметры: {'learning_rate': 0.1, 'max_depth': 5, 'min_samples_leaf': 1, 'min_samples_split': 3, 'n_estimators': 200}\n"
     ]
    }
   ],
   "execution_count": 6
  },
  {
   "cell_type": "code",
   "metadata": {
    "ExecuteTime": {
     "end_time": "2024-10-13T13:23:22.046992Z",
     "start_time": "2024-10-13T13:23:22.033210Z"
    }
   },
   "source": [
    "# Оценка модели\n",
    "from sklearn.metrics import mean_absolute_error, mean_squared_error\n",
    "import numpy as np\n",
    "\n",
    "# Предсказания модели\n",
    "y_pred = model.predict(X_train)\n",
    "\n",
    "# Вычисление MAE и RMSE\n",
    "mae = mean_absolute_error(y_train, y_pred)\n",
    "rmse = np.sqrt(mean_squared_error(y_train, y_pred))\n",
    "\n",
    "print(\"Среднее абсолютное отклонение (MAE):\", mae)\n",
    "print(\"Среднеквадратичное отклонение (RMSE):\", rmse)"
   ],
   "outputs": [
    {
     "name": "stdout",
     "output_type": "stream",
     "text": [
      "Среднее абсолютное отклонение (MAE): 1497.8710222309887\n",
      "Среднеквадратичное отклонение (RMSE): 1716.3618951263627\n"
     ]
    }
   ],
   "execution_count": 7
  },
  {
   "cell_type": "markdown",
   "metadata": {},
   "source": [
    "## 4 Сравнить результаты работы алгоритмов (время работы и качество моделей). Сделать выводы"
   ]
  }
 ],
 "metadata": {
  "kernelspec": {
   "display_name": "Python 3 (ipykernel)",
   "language": "python",
   "name": "python3"
  },
  "language_info": {
   "codemirror_mode": {
    "name": "ipython",
    "version": 3
   },
   "file_extension": ".py",
   "mimetype": "text/x-python",
   "name": "python",
   "nbconvert_exporter": "python",
   "pygments_lexer": "ipython3",
   "version": "3.12.4"
  }
 },
 "nbformat": 4,
 "nbformat_minor": 2
}
